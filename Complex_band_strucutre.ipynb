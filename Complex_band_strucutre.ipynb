{
 "cells": [
  {
   "cell_type": "code",
   "execution_count": 2,
   "metadata": {
    "collapsed": true
   },
   "outputs": [],
   "source": [
    "import numpy as np\n",
    "import scipy.linalg as lin\n",
    "import matplotlib.pyplot as plt\n",
    "%matplotlib inline"
   ]
  },
  {
   "cell_type": "markdown",
   "metadata": {},
   "source": [
    "### 1. Define parameters"
   ]
  },
  {
   "cell_type": "code",
   "execution_count": 3,
   "metadata": {
    "collapsed": true
   },
   "outputs": [],
   "source": [
    "E_c=2  #conduction band minimum\n",
    "E_v=-2 #valence band minimum\n",
    "\n",
    "delta=0.5 ##V-C split\n",
    "\n",
    "tc=-1 # conduction band hopping\n",
    "tv=1 # valence band hopping"
   ]
  },
  {
   "cell_type": "markdown",
   "metadata": {},
   "source": [
    "### 2. Define matrix"
   ]
  },
  {
   "cell_type": "code",
   "execution_count": 4,
   "metadata": {
    "collapsed": true
   },
   "outputs": [],
   "source": [
    "H00=np.array([[E_c+delta,0],[0,E_v-delta]]) ## onsite matrix\n",
    "H01=np.array([[tc,0.5],[-0.5,tv]]) ## hopping\n",
    "\n",
    "H10=np.array([[tc,-0.5],[0.5,tv]])"
   ]
  },
  {
   "cell_type": "code",
   "execution_count": 9,
   "metadata": {
    "collapsed": false
   },
   "outputs": [
    {
     "data": {
      "text/plain": [
       "array([[ 2.5,  0. ],\n",
       "       [ 0. , -2.5]])"
      ]
     },
     "execution_count": 9,
     "metadata": {},
     "output_type": "execute_result"
    }
   ],
   "source": [
    "H00"
   ]
  },
  {
   "cell_type": "markdown",
   "metadata": {},
   "source": [
    "** Function for polyeign problems **"
   ]
  },
  {
   "cell_type": "code",
   "execution_count": 5,
   "metadata": {
    "collapsed": true
   },
   "outputs": [],
   "source": [
    "def polyeig(e,H00,V01,V10):\n",
    "    a=V01;b=V10\n",
    "    N=len(a)\n",
    "    A=np.zeros([2*N,2*N],complex)\n",
    "    B=np.zeros([2*N,2*N],complex)\n",
    "\n",
    "    A[0:N,N:2*N]=np.eye(N);A[N:2*N,0:N]=-b\n",
    "    B[0:N,0:N]=np.eye(N);B[N:2*N,0:N]=(H00[:,:])-(e+0.001)*np.eye(N);B[N:2*N,N:2*N]=a\n",
    "    #C=dot(alg.inv(B),A)\n",
    "\n",
    "    eign=lin.eigvals(A,B)\n",
    "    return (1/(1j*1))*np.log(eign)"
   ]
  },
  {
   "cell_type": "markdown",
   "metadata": {},
   "source": [
    "### 3. Solutions"
   ]
  },
  {
   "cell_type": "code",
   "execution_count": 65,
   "metadata": {
    "collapsed": false
   },
   "outputs": [
    {
     "name": "stdout",
     "output_type": "stream",
     "text": [
      "[ 0.+0.6223625j   0.-0.6223625j   0.+0.75643291j  0.-0.75643291j]\n"
     ]
    }
   ],
   "source": [
    "eigenve=polyeig(0.1,H00,H01,H10)\n",
    "print (eigenve)"
   ]
  },
  {
   "cell_type": "code",
   "execution_count": 6,
   "metadata": {
    "collapsed": false
   },
   "outputs": [],
   "source": [
    "## Imaginary band\n",
    "\n",
    "NE=201;\n",
    "gap=np.linspace(-4,4,NE)\n",
    "\n",
    "ret_evala=np.zeros([4,NE],dtype=complex)\n",
    "for i,e in enumerate(gap):\n",
    "    eigvaluea=np.array(polyeig(e,H00,H01,H10).imag,complex)\n",
    "    argsa=eigvaluea.argsort()\n",
    "    eigvaluea=eigvaluea[argsa]\n",
    "    ret_evala[:,i]=eigvaluea[:]"
   ]
  },
  {
   "cell_type": "code",
   "execution_count": 7,
   "metadata": {
    "collapsed": false
   },
   "outputs": [],
   "source": [
    "## Real band\n",
    "\n",
    "NE=201;\n",
    "Energy=np.linspace(-4,4,NE)\n",
    "\n",
    "ret_eval=np.zeros([4,NE],dtype=complex)\n",
    "for i,e in enumerate(Energy):\n",
    "    eigvalue=np.array(polyeig(e,H00,H01,H10).real,complex)\n",
    "    args=eigvalue.argsort()\n",
    "    eigvalue=eigvalue[args]\n",
    "    ret_eval[:,i]=eigvalue[:]"
   ]
  },
  {
   "cell_type": "markdown",
   "metadata": {},
   "source": [
    "### 4. Plot"
   ]
  },
  {
   "cell_type": "code",
   "execution_count": 11,
   "metadata": {
    "collapsed": false
   },
   "outputs": [
    {
     "data": {
      "image/png": "[encoded data removed]",
      "text/plain": [
       "<matplotlib.figure.Figure at 0x72bc850>"
      ]
     },
     "metadata": {},
     "output_type": "display_data"
    }
   ],
   "source": [
    "# for i in range(0,4,1):\n",
    "#     plt.plot(ret_eval[i,:],Energy,'b-',linewidth=0.8)\n",
    "#     plt.plot(ret_evala[i,:],gap,'r--',linewidth=0.8)\n",
    "# plt.ylim(-4,4);plt.xlim(-np.pi,np.pi)\n",
    "# plt.show()\n",
    "\n",
    "\n",
    "fig = plt.figure(figsize=(5,3), dpi=200)\n",
    "ax = fig.add_subplot(1, 1, 1)\n",
    "\n",
    "for i in range(0,3,1):\n",
    "    ax.plot(ret_eval[i,:],Energy,'b-')\n",
    "    ax.plot(ret_evala[i,:],gap,'r--')\n",
    "    \n",
    "ax.plot(ret_eval[3,:],Energy,'b-',label=r\"$Rek$\")\n",
    "ax.plot(ret_evala[3,:],gap,'r--',label=r\"$Imk$\")\n",
    "    \n",
    "ax.legend(loc=5)\n",
    "ax.set_ylim(-4,4)\n",
    "# ax.set_yticks((-1,0,1))\n",
    "# ax.set_yticklabels(('-1','0','1'),size='large')\n",
    "\n",
    "# ax.axvline(x=2,color='k',ls='--')\n",
    "# ax.axvline(x=-2,color='k',ls='--')\n",
    "ax.set_xlim(-np.pi,np.pi)\n",
    "\n",
    "\n",
    "# plt.savefig(r'\\Users\\Tsymbal Group Member\\OneDrive - University of Nebraska-Lincoln\\PhD_work\\PhD_thesis\\fig4.png',dpi=400)\n",
    "plt.show()"
   ]
  },
  {
   "cell_type": "code",
   "execution_count": 74,
   "metadata": {
    "collapsed": false
   },
   "outputs": [
    {
     "data": {
      "text/plain": [
       "array([-4.  , -3.96, -3.92, -3.88, -3.84, -3.8 , -3.76, -3.72, -3.68,\n",
       "       -3.64, -3.6 , -3.56, -3.52, -3.48, -3.44, -3.4 , -3.36, -3.32,\n",
       "       -3.28, -3.24, -3.2 , -3.16, -3.12, -3.08, -3.04, -3.  , -2.96,\n",
       "       -2.92, -2.88, -2.84, -2.8 , -2.76, -2.72, -2.68, -2.64, -2.6 ,\n",
       "       -2.56, -2.52, -2.48, -2.44, -2.4 , -2.36, -2.32, -2.28, -2.24,\n",
       "       -2.2 , -2.16, -2.12, -2.08, -2.04, -2.  , -1.96, -1.92, -1.88,\n",
       "       -1.84, -1.8 , -1.76, -1.72, -1.68, -1.64, -1.6 , -1.56, -1.52,\n",
       "       -1.48, -1.44, -1.4 , -1.36, -1.32, -1.28, -1.24, -1.2 , -1.16,\n",
       "       -1.12, -1.08, -1.04, -1.  , -0.96, -0.92, -0.88, -0.84, -0.8 ,\n",
       "       -0.76, -0.72, -0.68, -0.64, -0.6 , -0.56, -0.52, -0.48, -0.44,\n",
       "       -0.4 , -0.36, -0.32, -0.28, -0.24, -0.2 , -0.16, -0.12, -0.08,\n",
       "       -0.04,  0.  ,  0.04,  0.08,  0.12,  0.16,  0.2 ,  0.24,  0.28,\n",
       "        0.32,  0.36,  0.4 ,  0.44,  0.48,  0.52,  0.56,  0.6 ,  0.64,\n",
       "        0.68,  0.72,  0.76,  0.8 ,  0.84,  0.88,  0.92,  0.96,  1.  ,\n",
       "        1.04,  1.08,  1.12,  1.16,  1.2 ,  1.24,  1.28,  1.32,  1.36,\n",
       "        1.4 ,  1.44,  1.48,  1.52,  1.56,  1.6 ,  1.64,  1.68,  1.72,\n",
       "        1.76,  1.8 ,  1.84,  1.88,  1.92,  1.96,  2.  ,  2.04,  2.08,\n",
       "        2.12,  2.16,  2.2 ,  2.24,  2.28,  2.32,  2.36,  2.4 ,  2.44,\n",
       "        2.48,  2.52,  2.56,  2.6 ,  2.64,  2.68,  2.72,  2.76,  2.8 ,\n",
       "        2.84,  2.88,  2.92,  2.96,  3.  ,  3.04,  3.08,  3.12,  3.16,\n",
       "        3.2 ,  3.24,  3.28,  3.32,  3.36,  3.4 ,  3.44,  3.48,  3.52,\n",
       "        3.56,  3.6 ,  3.64,  3.68,  3.72,  3.76,  3.8 ,  3.84,  3.88,\n",
       "        3.92,  3.96,  4.  ])"
      ]
     },
     "execution_count": 74,
     "metadata": {},
     "output_type": "execute_result"
    }
   ],
   "source": [
    "Energy"
   ]
  },
  {
   "cell_type": "markdown",
   "metadata": {},
   "source": [
    "### 5. Analytic solutions"
   ]
  },
  {
   "cell_type": "code",
   "execution_count": 92,
   "metadata": {
    "collapsed": true
   },
   "outputs": [],
   "source": [
    "def sol(e,t,en,sign):\n",
    "    a1=e-en\n",
    "    a2=np.sqrt((e-en)**2-4*(t**2)+0*1j)\n",
    "    if (sign)==0:\n",
    "        return (1/1j)*np.log((-a1+a2)/(2*t))\n",
    "    else:\n",
    "        return (1/1j)*np.log((-a1-a2)/(2*t))\n",
    "\n"
   ]
  },
  {
   "cell_type": "code",
   "execution_count": 89,
   "metadata": {
    "collapsed": true
   },
   "outputs": [],
   "source": [
    "NE=201;\n",
    "Energy=np.linspace(-4,4,NE)"
   ]
  },
  {
   "cell_type": "code",
   "execution_count": 95,
   "metadata": {
    "collapsed": false
   },
   "outputs": [],
   "source": [
    "k10=np.zeros([NE],dtype=complex)\n",
    "k11=np.zeros([NE],dtype=complex)\n",
    "k20=np.zeros([NE],dtype=complex)\n",
    "k21=np.zeros([NE],dtype=complex)\n",
    "\n",
    "for i in range(len(Energy)):\n",
    "    k10[i]=sol(2.5,-1,Energy[i],0).imag\n",
    "    k11[i]=sol(2.5,-1,Energy[i],1).imag\n",
    "    k20[i]=sol(-2.5,1,Energy[i],0).imag\n",
    "    k21[i]=sol(-2.5,1,Energy[i],1).imag"
   ]
  },
  {
   "cell_type": "code",
   "execution_count": 96,
   "metadata": {
    "collapsed": false
   },
   "outputs": [
    {
     "data": {
      "text/plain": [
       "[]"
      ]
     },
     "execution_count": 96,
     "metadata": {},
     "output_type": "execute_result"
    },
    {
     "data": {
      "image/png": "[encoded data removed]",
      "text/plain": [
       "<matplotlib.figure.Figure at 0x68f9e90>"
      ]
     },
     "metadata": {},
     "output_type": "display_data"
    }
   ],
   "source": [
    "\n",
    "plt.plot(k10,Energy,'b-',linewidth=0.8)\n",
    "plt.plot(k11,Energy,'b-',linewidth=0.8)\n",
    "plt.plot(k20,Energy,'b-',linewidth=0.8)\n",
    "plt.plot(k21,Energy,'b-',linewidth=0.8)\n",
    "\n",
    "plt.plot()"
   ]
  },
  {
   "cell_type": "code",
   "execution_count": null,
   "metadata": {
    "collapsed": true
   },
   "outputs": [],
   "source": []
  }
 ],
 "metadata": {
  "anaconda-cloud": {},
  "kernelspec": {
   "display_name": "Python [conda root]",
   "language": "python",
   "name": "conda-root-py"
  },
  "language_info": {
   "codemirror_mode": {
    "name": "ipython",
    "version": 2
   },
   "file_extension": ".py",
   "mimetype": "text/x-python",
   "name": "python",
   "nbconvert_exporter": "python",
   "pygments_lexer": "ipython2",
   "version": "2.7.12"
  }
 },
 "nbformat": 4,
 "nbformat_minor": 1
}
