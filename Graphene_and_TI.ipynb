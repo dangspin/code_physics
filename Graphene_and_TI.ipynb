{
 "cells": [
  {
   "cell_type": "code",
   "execution_count": 1,
   "metadata": {
    "collapsed": true
   },
   "outputs": [],
   "source": [
    "## All the packages I am going to use\n",
    "\n",
    "import numpy as np\n",
    "import scipy.linalg as lin\n",
    "import os\n",
    "import matplotlib.pyplot as plt\n",
    "import seaborn as sb\n",
    "import matplotlib as mpl\n",
    "%config InlineBackend.figure_format = 'retina'\n",
    "%matplotlib inline\n",
    "\n",
    "# special matplotlib argument for improved plots\n",
    "# from matplotlib import rcParams\n",
    "\n",
    "\n",
    "# rcParams['figure.figsize'] = (8, 4)\n",
    "# rcParams['figure.dpi'] = 150\n",
    "# rcParams['lines.linewidth'] = 3\n",
    "# rcParams['font.size'] = 14\n",
    "# rcParams['font.family'] = 'StixGeneral'"
   ]
  },
  {
   "cell_type": "code",
   "execution_count": 7,
   "metadata": {
    "collapsed": true
   },
   "outputs": [],
   "source": [
    "##Constant table\n",
    "\n",
    "h_bar=1.0\n",
    "m=1.0\n",
    "alpha=0.0"
   ]
  },
  {
   "cell_type": "markdown",
   "metadata": {},
   "source": [
    "## Part 1. Rashba Effect"
   ]
  },
  {
   "cell_type": "markdown",
   "metadata": {},
   "source": [
    "**Rashba Hamiltonian:**\n",
    "\n",
    "$\n",
    "\\begin{align}\n",
    "H_{Ra} &=\\alpha(\\vec{\\mathbf{\\sigma}} \\times \\vec{\\mathbf{p}}) \\cdot \\hat{z} \\\\\n",
    "&= \\alpha(\\sigma_{x}p_{y}-\\sigma_{y}p_{x})\n",
    "\\end{align}\n",
    "$"
   ]
  },
  {
   "cell_type": "code",
   "execution_count": 3,
   "metadata": {
    "collapsed": false
   },
   "outputs": [],
   "source": [
    "# define Pauli Matrcies\n",
    "\n",
    "sigmax=np.array([[0,1],[1,0]])\n",
    "sigmay=np.array([[0,-1j],[1j,0]])\n",
    "sigmaz=np.array([[1,0],[0,-1]])\n",
    "\n"
   ]
  },
  {
   "cell_type": "code",
   "execution_count": 8,
   "metadata": {
    "collapsed": false
   },
   "outputs": [
    {
     "name": "stdout",
     "output_type": "stream",
     "text": [
      "[[ 6.+0.j  0.+0.j]\n",
      " [ 0.+0.j -6.+0.j]]\n"
     ]
    }
   ],
   "source": [
    "## Define Rashba Hamiltonian:\n",
    "\n",
    "def Rash_Ham(kpx,kpy):\n",
    "    H_0=(h_bar**2/(2*m))*(kpx+kpy**2)*(np.array([[1,0],[0,-1]]))\n",
    "    H_1=alpha*(sigmax*kpy-sigmay*kpx)\n",
    "    return H_0+H_1\n",
    "\n",
    "print Rash_Ham(3,3)"
   ]
  },
  {
   "cell_type": "code",
   "execution_count": 9,
   "metadata": {
    "collapsed": false
   },
   "outputs": [],
   "source": [
    "k_point=np.linspace(-3,3,200)\n",
    "\n",
    "band1=[]\n",
    "band2=[]\n",
    "\n",
    "for i in k_point:\n",
    "    eign_val=lin.eigh(Rash_Ham(i,0))[0]\n",
    "    eign_vec=lin.eigh(Rash_Ham(i,0))[1]\n",
    "    if eign_vec[1,0].imag<0:\n",
    "        band1.append(eign_val[0])\n",
    "        band2.append(eign_val[1])\n",
    "    elif eign_vec[1,1].imag<0:\n",
    "        band1.append(eign_val[1])\n",
    "        band2.append(eign_val[0])"
   ]
  },
  {
   "cell_type": "code",
   "execution_count": 10,
   "metadata": {
    "collapsed": false
   },
   "outputs": [
    {
     "ename": "ValueError",
     "evalue": "x and y must have same first dimension",
     "output_type": "error",
     "traceback": [
      "\u001b[0;31m---------------------------------------------------------------------------\u001b[0m",
      "\u001b[0;31mValueError\u001b[0m                                Traceback (most recent call last)",
      "\u001b[0;32m<ipython-input-10-63615ab7095b>\u001b[0m in \u001b[0;36m<module>\u001b[0;34m()\u001b[0m\n\u001b[0;32m----> 1\u001b[0;31m \u001b[0mplt\u001b[0m\u001b[1;33m.\u001b[0m\u001b[0mplot\u001b[0m\u001b[1;33m(\u001b[0m\u001b[0mk_point\u001b[0m\u001b[1;33m,\u001b[0m\u001b[0mband1\u001b[0m\u001b[1;33m,\u001b[0m\u001b[1;34m'b-'\u001b[0m\u001b[1;33m)\u001b[0m\u001b[1;33m\u001b[0m\u001b[0m\n\u001b[0m\u001b[1;32m      2\u001b[0m \u001b[0mplt\u001b[0m\u001b[1;33m.\u001b[0m\u001b[0mplot\u001b[0m\u001b[1;33m(\u001b[0m\u001b[0mk_point\u001b[0m\u001b[1;33m,\u001b[0m\u001b[0mband2\u001b[0m\u001b[1;33m,\u001b[0m\u001b[1;34m'r-'\u001b[0m\u001b[1;33m)\u001b[0m\u001b[1;33m\u001b[0m\u001b[0m\n\u001b[1;32m      3\u001b[0m \u001b[0mplt\u001b[0m\u001b[1;33m.\u001b[0m\u001b[0mshow\u001b[0m\u001b[1;33m(\u001b[0m\u001b[1;33m)\u001b[0m\u001b[1;33m\u001b[0m\u001b[0m\n",
      "\u001b[0;32mC:\\Users\\Tsymbal Group Member\\Anaconda2\\lib\\site-packages\\matplotlib\\pyplot.pyc\u001b[0m in \u001b[0;36mplot\u001b[0;34m(*args, **kwargs)\u001b[0m\n\u001b[1;32m   3159\u001b[0m         \u001b[0max\u001b[0m\u001b[1;33m.\u001b[0m\u001b[0mhold\u001b[0m\u001b[1;33m(\u001b[0m\u001b[0mhold\u001b[0m\u001b[1;33m)\u001b[0m\u001b[1;33m\u001b[0m\u001b[0m\n\u001b[1;32m   3160\u001b[0m     \u001b[1;32mtry\u001b[0m\u001b[1;33m:\u001b[0m\u001b[1;33m\u001b[0m\u001b[0m\n\u001b[0;32m-> 3161\u001b[0;31m         \u001b[0mret\u001b[0m \u001b[1;33m=\u001b[0m \u001b[0max\u001b[0m\u001b[1;33m.\u001b[0m\u001b[0mplot\u001b[0m\u001b[1;33m(\u001b[0m\u001b[1;33m*\u001b[0m\u001b[0margs\u001b[0m\u001b[1;33m,\u001b[0m \u001b[1;33m**\u001b[0m\u001b[0mkwargs\u001b[0m\u001b[1;33m)\u001b[0m\u001b[1;33m\u001b[0m\u001b[0m\n\u001b[0m\u001b[1;32m   3162\u001b[0m     \u001b[1;32mfinally\u001b[0m\u001b[1;33m:\u001b[0m\u001b[1;33m\u001b[0m\u001b[0m\n\u001b[1;32m   3163\u001b[0m         \u001b[0max\u001b[0m\u001b[1;33m.\u001b[0m\u001b[0mhold\u001b[0m\u001b[1;33m(\u001b[0m\u001b[0mwashold\u001b[0m\u001b[1;33m)\u001b[0m\u001b[1;33m\u001b[0m\u001b[0m\n",
      "\u001b[0;32mC:\\Users\\Tsymbal Group Member\\Anaconda2\\lib\\site-packages\\matplotlib\\__init__.pyc\u001b[0m in \u001b[0;36minner\u001b[0;34m(ax, *args, **kwargs)\u001b[0m\n\u001b[1;32m   1816\u001b[0m                     warnings.warn(msg % (label_namer, func.__name__),\n\u001b[1;32m   1817\u001b[0m                                   RuntimeWarning, stacklevel=2)\n\u001b[0;32m-> 1818\u001b[0;31m             \u001b[1;32mreturn\u001b[0m \u001b[0mfunc\u001b[0m\u001b[1;33m(\u001b[0m\u001b[0max\u001b[0m\u001b[1;33m,\u001b[0m \u001b[1;33m*\u001b[0m\u001b[0margs\u001b[0m\u001b[1;33m,\u001b[0m \u001b[1;33m**\u001b[0m\u001b[0mkwargs\u001b[0m\u001b[1;33m)\u001b[0m\u001b[1;33m\u001b[0m\u001b[0m\n\u001b[0m\u001b[1;32m   1819\u001b[0m         \u001b[0mpre_doc\u001b[0m \u001b[1;33m=\u001b[0m \u001b[0minner\u001b[0m\u001b[1;33m.\u001b[0m\u001b[0m__doc__\u001b[0m\u001b[1;33m\u001b[0m\u001b[0m\n\u001b[1;32m   1820\u001b[0m         \u001b[1;32mif\u001b[0m \u001b[0mpre_doc\u001b[0m \u001b[1;32mis\u001b[0m \u001b[0mNone\u001b[0m\u001b[1;33m:\u001b[0m\u001b[1;33m\u001b[0m\u001b[0m\n",
      "\u001b[0;32mC:\\Users\\Tsymbal Group Member\\Anaconda2\\lib\\site-packages\\matplotlib\\axes\\_axes.pyc\u001b[0m in \u001b[0;36mplot\u001b[0;34m(self, *args, **kwargs)\u001b[0m\n\u001b[1;32m   1380\u001b[0m         \u001b[0mkwargs\u001b[0m \u001b[1;33m=\u001b[0m \u001b[0mcbook\u001b[0m\u001b[1;33m.\u001b[0m\u001b[0mnormalize_kwargs\u001b[0m\u001b[1;33m(\u001b[0m\u001b[0mkwargs\u001b[0m\u001b[1;33m,\u001b[0m \u001b[0m_alias_map\u001b[0m\u001b[1;33m)\u001b[0m\u001b[1;33m\u001b[0m\u001b[0m\n\u001b[1;32m   1381\u001b[0m \u001b[1;33m\u001b[0m\u001b[0m\n\u001b[0;32m-> 1382\u001b[0;31m         \u001b[1;32mfor\u001b[0m \u001b[0mline\u001b[0m \u001b[1;32min\u001b[0m \u001b[0mself\u001b[0m\u001b[1;33m.\u001b[0m\u001b[0m_get_lines\u001b[0m\u001b[1;33m(\u001b[0m\u001b[1;33m*\u001b[0m\u001b[0margs\u001b[0m\u001b[1;33m,\u001b[0m \u001b[1;33m**\u001b[0m\u001b[0mkwargs\u001b[0m\u001b[1;33m)\u001b[0m\u001b[1;33m:\u001b[0m\u001b[1;33m\u001b[0m\u001b[0m\n\u001b[0m\u001b[1;32m   1383\u001b[0m             \u001b[0mself\u001b[0m\u001b[1;33m.\u001b[0m\u001b[0madd_line\u001b[0m\u001b[1;33m(\u001b[0m\u001b[0mline\u001b[0m\u001b[1;33m)\u001b[0m\u001b[1;33m\u001b[0m\u001b[0m\n\u001b[1;32m   1384\u001b[0m             \u001b[0mlines\u001b[0m\u001b[1;33m.\u001b[0m\u001b[0mappend\u001b[0m\u001b[1;33m(\u001b[0m\u001b[0mline\u001b[0m\u001b[1;33m)\u001b[0m\u001b[1;33m\u001b[0m\u001b[0m\n",
      "\u001b[0;32mC:\\Users\\Tsymbal Group Member\\Anaconda2\\lib\\site-packages\\matplotlib\\axes\\_base.pyc\u001b[0m in \u001b[0;36m_grab_next_args\u001b[0;34m(self, *args, **kwargs)\u001b[0m\n\u001b[1;32m    379\u001b[0m                 \u001b[1;32mreturn\u001b[0m\u001b[1;33m\u001b[0m\u001b[0m\n\u001b[1;32m    380\u001b[0m             \u001b[1;32mif\u001b[0m \u001b[0mlen\u001b[0m\u001b[1;33m(\u001b[0m\u001b[0mremaining\u001b[0m\u001b[1;33m)\u001b[0m \u001b[1;33m<=\u001b[0m \u001b[1;36m3\u001b[0m\u001b[1;33m:\u001b[0m\u001b[1;33m\u001b[0m\u001b[0m\n\u001b[0;32m--> 381\u001b[0;31m                 \u001b[1;32mfor\u001b[0m \u001b[0mseg\u001b[0m \u001b[1;32min\u001b[0m \u001b[0mself\u001b[0m\u001b[1;33m.\u001b[0m\u001b[0m_plot_args\u001b[0m\u001b[1;33m(\u001b[0m\u001b[0mremaining\u001b[0m\u001b[1;33m,\u001b[0m \u001b[0mkwargs\u001b[0m\u001b[1;33m)\u001b[0m\u001b[1;33m:\u001b[0m\u001b[1;33m\u001b[0m\u001b[0m\n\u001b[0m\u001b[1;32m    382\u001b[0m                     \u001b[1;32myield\u001b[0m \u001b[0mseg\u001b[0m\u001b[1;33m\u001b[0m\u001b[0m\n\u001b[1;32m    383\u001b[0m                 \u001b[1;32mreturn\u001b[0m\u001b[1;33m\u001b[0m\u001b[0m\n",
      "\u001b[0;32mC:\\Users\\Tsymbal Group Member\\Anaconda2\\lib\\site-packages\\matplotlib\\axes\\_base.pyc\u001b[0m in \u001b[0;36m_plot_args\u001b[0;34m(self, tup, kwargs)\u001b[0m\n\u001b[1;32m    357\u001b[0m             \u001b[0mx\u001b[0m\u001b[1;33m,\u001b[0m \u001b[0my\u001b[0m \u001b[1;33m=\u001b[0m \u001b[0mindex_of\u001b[0m\u001b[1;33m(\u001b[0m\u001b[0mtup\u001b[0m\u001b[1;33m[\u001b[0m\u001b[1;33m-\u001b[0m\u001b[1;36m1\u001b[0m\u001b[1;33m]\u001b[0m\u001b[1;33m)\u001b[0m\u001b[1;33m\u001b[0m\u001b[0m\n\u001b[1;32m    358\u001b[0m \u001b[1;33m\u001b[0m\u001b[0m\n\u001b[0;32m--> 359\u001b[0;31m         \u001b[0mx\u001b[0m\u001b[1;33m,\u001b[0m \u001b[0my\u001b[0m \u001b[1;33m=\u001b[0m \u001b[0mself\u001b[0m\u001b[1;33m.\u001b[0m\u001b[0m_xy_from_xy\u001b[0m\u001b[1;33m(\u001b[0m\u001b[0mx\u001b[0m\u001b[1;33m,\u001b[0m \u001b[0my\u001b[0m\u001b[1;33m)\u001b[0m\u001b[1;33m\u001b[0m\u001b[0m\n\u001b[0m\u001b[1;32m    360\u001b[0m \u001b[1;33m\u001b[0m\u001b[0m\n\u001b[1;32m    361\u001b[0m         \u001b[1;32mif\u001b[0m \u001b[0mself\u001b[0m\u001b[1;33m.\u001b[0m\u001b[0mcommand\u001b[0m \u001b[1;33m==\u001b[0m \u001b[1;34m'plot'\u001b[0m\u001b[1;33m:\u001b[0m\u001b[1;33m\u001b[0m\u001b[0m\n",
      "\u001b[0;32mC:\\Users\\Tsymbal Group Member\\Anaconda2\\lib\\site-packages\\matplotlib\\axes\\_base.pyc\u001b[0m in \u001b[0;36m_xy_from_xy\u001b[0;34m(self, x, y)\u001b[0m\n\u001b[1;32m    217\u001b[0m         \u001b[0my\u001b[0m \u001b[1;33m=\u001b[0m \u001b[0m_check_1d\u001b[0m\u001b[1;33m(\u001b[0m\u001b[0my\u001b[0m\u001b[1;33m)\u001b[0m\u001b[1;33m\u001b[0m\u001b[0m\n\u001b[1;32m    218\u001b[0m         \u001b[1;32mif\u001b[0m \u001b[0mx\u001b[0m\u001b[1;33m.\u001b[0m\u001b[0mshape\u001b[0m\u001b[1;33m[\u001b[0m\u001b[1;36m0\u001b[0m\u001b[1;33m]\u001b[0m \u001b[1;33m!=\u001b[0m \u001b[0my\u001b[0m\u001b[1;33m.\u001b[0m\u001b[0mshape\u001b[0m\u001b[1;33m[\u001b[0m\u001b[1;36m0\u001b[0m\u001b[1;33m]\u001b[0m\u001b[1;33m:\u001b[0m\u001b[1;33m\u001b[0m\u001b[0m\n\u001b[0;32m--> 219\u001b[0;31m             \u001b[1;32mraise\u001b[0m \u001b[0mValueError\u001b[0m\u001b[1;33m(\u001b[0m\u001b[1;34m\"x and y must have same first dimension\"\u001b[0m\u001b[1;33m)\u001b[0m\u001b[1;33m\u001b[0m\u001b[0m\n\u001b[0m\u001b[1;32m    220\u001b[0m         \u001b[1;32mif\u001b[0m \u001b[0mx\u001b[0m\u001b[1;33m.\u001b[0m\u001b[0mndim\u001b[0m \u001b[1;33m>\u001b[0m \u001b[1;36m2\u001b[0m \u001b[1;32mor\u001b[0m \u001b[0my\u001b[0m\u001b[1;33m.\u001b[0m\u001b[0mndim\u001b[0m \u001b[1;33m>\u001b[0m \u001b[1;36m2\u001b[0m\u001b[1;33m:\u001b[0m\u001b[1;33m\u001b[0m\u001b[0m\n\u001b[1;32m    221\u001b[0m             \u001b[1;32mraise\u001b[0m \u001b[0mValueError\u001b[0m\u001b[1;33m(\u001b[0m\u001b[1;34m\"x and y can be no greater than 2-D\"\u001b[0m\u001b[1;33m)\u001b[0m\u001b[1;33m\u001b[0m\u001b[0m\n",
      "\u001b[0;31mValueError\u001b[0m: x and y must have same first dimension"
     ]
    },
    {
     "data": {
      "image/png": "[encoded data removed]",
      "text/plain": [
       "<matplotlib.figure.Figure at 0x2e8f430>"
      ]
     },
     "metadata": {
      "image/png": {
       "height": 358,
       "width": 675
      }
     },
     "output_type": "display_data"
    }
   ],
   "source": [
    "plt.plot(k_point,band1,'b-')\n",
    "plt.plot(k_point,band2,'r-')\n",
    "plt.show()"
   ]
  },
  {
   "cell_type": "code",
   "execution_count": 12,
   "metadata": {
    "collapsed": false
   },
   "outputs": [
    {
     "data": {
      "text/plain": [
       "[]"
      ]
     },
     "execution_count": 12,
     "metadata": {},
     "output_type": "execute_result"
    }
   ],
   "source": [
    "band2"
   ]
  },
  {
   "cell_type": "markdown",
   "metadata": {},
   "source": [
    "### Equal energy Surface (Fermi surface )\n",
    "\n",
    "In this calculation, we will look at the energy $E_{F}=1$ in our parameter system"
   ]
  },
  {
   "cell_type": "code",
   "execution_count": 23,
   "metadata": {
    "collapsed": false
   },
   "outputs": [],
   "source": [
    "ra=1\n",
    "kpt=[(ra*np.cos(the1),ra*np.sin(the1)) for the1 in np.linspace(-np.pi,np.pi,200)]"
   ]
  },
  {
   "cell_type": "code",
   "execution_count": 24,
   "metadata": {
    "collapsed": false
   },
   "outputs": [
    {
     "name": "stdout",
     "output_type": "stream",
     "text": [
      "[ 0.  1.]\n"
     ]
    }
   ],
   "source": [
    "band1=[]\n",
    "band2=[]\n",
    "\n",
    "Energy=lin.eigh(Rash_Ham(kpt[0][0],kpt[0][1]))[0]\n",
    "print Energy\n",
    "# for i in kpt:\n",
    "#     eign_vec=lin.eigh(Rash_Ham(i[0],i[1]))[1]\n",
    "#     if eign_vec[1,0].imag<0:\n",
    "#         band1.append(eign_val[0])\n",
    "#         band2.append(eign_val[1])\n",
    "#     elif eign_vec[1,1].imag<0:\n",
    "#         band1.append(eign_val[1])\n",
    "#         band2.append(eign_val[0])"
   ]
  },
  {
   "cell_type": "code",
   "execution_count": 18,
   "metadata": {
    "collapsed": true
   },
   "outputs": [
    {
     "name": "stdout",
     "output_type": "stream",
     "text": [
      "2.3726125\n",
      "2.3726125\n",
      "2.3726125\n",
      "2.3726125\n",
      "2.3726125\n",
      "2.3726125\n",
      "2.3726125\n",
      "2.3726125\n",
      "2.3726125\n",
      "2.3726125\n",
      "2.3726125\n",
      "2.3726125\n",
      "2.3726125\n",
      "2.3726125\n",
      "2.3726125\n",
      "2.3726125\n",
      "2.3726125\n",
      "2.3726125\n",
      "2.3726125\n",
      "2.3726125\n",
      "2.3726125\n",
      "2.3726125\n",
      "2.3726125\n",
      "2.3726125\n",
      "2.3726125\n",
      "2.3726125\n",
      "2.3726125\n",
      "2.3726125\n",
      "2.3726125\n",
      "2.3726125\n",
      "2.3726125\n",
      "2.3726125\n",
      "2.3726125\n",
      "2.3726125\n",
      "2.3726125\n",
      "2.3726125\n",
      "2.3726125\n",
      "2.3726125\n",
      "2.3726125\n",
      "2.3726125\n",
      "2.3726125\n",
      "2.3726125\n",
      "2.3726125\n",
      "2.3726125\n",
      "2.3726125\n",
      "2.3726125\n",
      "2.3726125\n",
      "2.3726125\n",
      "2.3726125\n",
      "2.3726125\n",
      "2.3726125\n",
      "2.3726125\n",
      "2.3726125\n",
      "2.3726125\n",
      "2.3726125\n",
      "2.3726125\n",
      "2.3726125\n",
      "2.3726125\n",
      "2.3726125\n",
      "2.3726125\n",
      "2.3726125\n",
      "2.3726125\n",
      "2.3726125\n",
      "2.3726125\n",
      "2.3726125\n",
      "2.3726125\n",
      "2.3726125\n",
      "2.3726125\n",
      "2.3726125\n",
      "2.3726125\n",
      "2.3726125\n",
      "2.3726125\n",
      "2.3726125\n",
      "2.3726125\n",
      "2.3726125\n",
      "2.3726125\n",
      "2.3726125\n",
      "2.3726125\n",
      "2.3726125\n",
      "2.3726125\n",
      "2.3726125\n",
      "2.3726125\n",
      "2.3726125\n",
      "2.3726125\n",
      "2.3726125\n",
      "2.3726125\n",
      "2.3726125\n",
      "2.3726125\n",
      "2.3726125\n",
      "2.3726125\n",
      "2.3726125\n",
      "2.3726125\n",
      "2.3726125\n",
      "2.3726125\n",
      "2.3726125\n",
      "2.3726125\n",
      "2.3726125\n",
      "2.3726125\n",
      "2.3726125\n",
      "2.3726125\n",
      "2.3726125\n",
      "2.3726125\n",
      "2.3726125\n",
      "2.3726125\n",
      "2.3726125\n",
      "2.3726125\n",
      "2.3726125\n",
      "2.3726125\n",
      "2.3726125\n",
      "2.3726125\n",
      "2.3726125\n",
      "2.3726125\n",
      "2.3726125\n",
      "2.3726125\n",
      "2.3726125\n",
      "2.3726125\n",
      "2.3726125\n",
      "2.3726125\n",
      "2.3726125\n",
      "2.3726125\n",
      "2.3726125\n",
      "2.3726125\n",
      "2.3726125\n",
      "2.3726125\n",
      "2.3726125\n",
      "2.3726125\n",
      "2.3726125\n",
      "2.3726125\n",
      "2.3726125\n",
      "2.3726125\n",
      "2.3726125\n",
      "2.3726125\n",
      "2.3726125\n",
      "2.3726125\n",
      "2.3726125\n",
      "2.3726125\n",
      "2.3726125\n",
      "2.3726125\n",
      "2.3726125\n",
      "2.3726125\n",
      "2.3726125\n",
      "2.3726125\n",
      "2.3726125\n",
      "2.3726125\n",
      "2.3726125\n",
      "2.3726125\n",
      "2.3726125\n",
      "2.3726125\n",
      "2.3726125\n",
      "2.3726125\n",
      "2.3726125\n",
      "2.3726125\n",
      "2.3726125\n",
      "2.3726125\n",
      "2.3726125\n",
      "2.3726125\n",
      "2.3726125\n",
      "2.3726125\n",
      "2.3726125\n",
      "2.3726125\n",
      "2.3726125\n",
      "2.3726125\n",
      "2.3726125\n",
      "2.3726125\n",
      "2.3726125\n",
      "2.3726125\n",
      "2.3726125\n",
      "2.3726125\n",
      "2.3726125\n",
      "2.3726125\n",
      "2.3726125\n",
      "2.3726125\n",
      "2.3726125\n",
      "2.3726125\n",
      "2.3726125\n",
      "2.3726125\n",
      "2.3726125\n",
      "2.3726125\n",
      "2.3726125\n",
      "2.3726125\n",
      "2.3726125\n",
      "2.3726125\n",
      "2.3726125\n",
      "2.3726125\n",
      "2.3726125\n",
      "2.3726125\n",
      "2.3726125\n",
      "2.3726125\n",
      "2.3726125\n",
      "2.3726125\n",
      "2.3726125\n",
      "2.3726125\n",
      "2.3726125\n",
      "2.3726125\n",
      "2.3726125\n",
      "2.3726125\n",
      "2.3726125\n",
      "2.3726125\n",
      "2.3726125\n",
      "2.3726125\n"
     ]
    }
   ],
   "source": [
    "for i in kpt:\n",
    "    eign_val=lin.eigh(Rash_Ham(i[0],i[1]))[0]\n",
    "    print eign_val[0]"
   ]
  },
  {
   "cell_type": "code",
   "execution_count": 10,
   "metadata": {
    "collapsed": false
   },
   "outputs": [
    {
     "data": {
      "text/plain": [
       "151"
      ]
     },
     "execution_count": 10,
     "metadata": {},
     "output_type": "execute_result"
    }
   ],
   "source": [
    "len(band1)"
   ]
  },
  {
   "cell_type": "code",
   "execution_count": null,
   "metadata": {
    "collapsed": false
   },
   "outputs": [],
   "source": []
  },
  {
   "cell_type": "markdown",
   "metadata": {
    "collapsed": true
   },
   "source": [
    "## Graphene Band Structure"
   ]
  },
  {
   "cell_type": "code",
   "execution_count": 86,
   "metadata": {
    "collapsed": true
   },
   "outputs": [],
   "source": [
    "t=1.0\n",
    "\n",
    "def GraHam(kx,ky):\n",
    "    f1=t*(1+np.cos(kx/2+np.sqrt(3)*ky/2)-1j*np.sin(kx/2+np.sqrt(3)*ky/2)+np.cos(-kx/2+np.sqrt(3)*ky/2)-1j*np.sin(-kx/2+np.sqrt(3)*ky/2))\n",
    "    f2=t*(1+np.cos(kx/2+np.sqrt(3)*ky/2)+1j*np.sin(kx/2+np.sqrt(3)*ky/2)+np.cos(-kx/2+np.sqrt(3)*ky/2)+1j*np.sin(-kx/2+np.sqrt(3)*ky/2))\n",
    "    Ham=np.array([[0,f1],[f2,0]])\n",
    "    return Ham"
   ]
  },
  {
   "cell_type": "code",
   "execution_count": 97,
   "metadata": {
    "collapsed": false
   },
   "outputs": [
    {
     "name": "stderr",
     "output_type": "stream",
     "text": [
      "C:\\Users\\Tsymbal Group Member\\Anaconda2\\lib\\site-packages\\ipykernel\\__main__.py:6: VisibleDeprecationWarning: using a non-integer number instead of an integer will result in an error in the future\n",
      "C:\\Users\\Tsymbal Group Member\\Anaconda2\\lib\\site-packages\\ipykernel\\__main__.py:11: VisibleDeprecationWarning: using a non-integer number instead of an integer will result in an error in the future\n"
     ]
    }
   ],
   "source": [
    "k_point=np.linspace(0,2*np.pi,200)\n",
    "\n",
    "band1=np.zeros((200,200),dtype=float)\n",
    "for i in k_point:\n",
    "    for j in k_point:\n",
    "        band1[i,j]=(lin.eigvals(GraHam(i,j))[0].real)\n",
    "        \n",
    "band2=np.zeros((200,200),dtype=float)\n",
    "for i in k_point:\n",
    "    for j in k_point:\n",
    "        band2[i,j]=(lin.eigvals(GraHam(i,j))[1].real)"
   ]
  },
  {
   "cell_type": "code",
   "execution_count": 98,
   "metadata": {
    "collapsed": false
   },
   "outputs": [],
   "source": [
    "from mpl_toolkits.mplot3d.axes3d import Axes3D\n",
    "X,Y = np.meshgrid(k_point,k_point)\n",
    "\n",
    "ax = fig.add_subplot(1, 1, 1, projection='3d')\n",
    "\n",
    "ax.plot_surface(X, Y, band1, rstride=4, cstride=4, alpha=0.25)\n",
    "ax.view_init(30, 45)\n",
    "plt.show()"
   ]
  },
  {
   "cell_type": "code",
   "execution_count": null,
   "metadata": {
    "collapsed": true
   },
   "outputs": [],
   "source": []
  },
  {
   "cell_type": "code",
   "execution_count": 110,
   "metadata": {
    "collapsed": false
   },
   "outputs": [],
   "source": [
    "k_point=np.linspace(-np.pi,np.pi,200)\n",
    "\n",
    "band=[lin.eigvals(GraHam(i,2*np.sqrt(3)*np.pi/3)).real for i in k_point]"
   ]
  },
  {
   "cell_type": "code",
   "execution_count": 111,
   "metadata": {
    "collapsed": false
   },
   "outputs": [
    {
     "data": {
      "image/png": "[encoded data removed]",
      "text/plain": [
       "<matplotlib.figure.Figure at 0x9596d10>"
      ]
     },
     "metadata": {
      "image/png": {
       "height": 359,
       "width": 525
      }
     },
     "output_type": "display_data"
    }
   ],
   "source": [
    "plt.plot(k_point,band,'b')\n",
    "plt.ylim(-2,2)\n",
    "plt.show()"
   ]
  },
  {
   "cell_type": "code",
   "execution_count": 109,
   "metadata": {
    "collapsed": true
   },
   "outputs": [],
   "source": [
    "def GraHam(kx,ky):\n",
    "    f1=t*(1+np.cos(kx/2+np.sqrt(3)*ky/2)-1j*np.sin(kx/2+np.sqrt(3)*ky/2)+np.cos(kx)-1j*np.sin(kx))\n",
    "    f2=t*(1+np.cos(kx/2+np.sqrt(3)*ky/2)+1j*np.sin(kx/2+np.sqrt(3)*ky/2)+np.cos(kx)+1j*np.sin(kx))\n",
    "    Ham=np.array([[0,f1],[f2,0]])\n",
    "    return Ham"
   ]
  },
  {
   "cell_type": "code",
   "execution_count": null,
   "metadata": {
    "collapsed": true
   },
   "outputs": [],
   "source": []
  },
  {
   "cell_type": "code",
   "execution_count": null,
   "metadata": {
    "collapsed": true
   },
   "outputs": [],
   "source": []
  },
  {
   "cell_type": "code",
   "execution_count": null,
   "metadata": {
    "collapsed": true
   },
   "outputs": [],
   "source": []
  },
  {
   "cell_type": "code",
   "execution_count": 99,
   "metadata": {
    "collapsed": true
   },
   "outputs": [],
   "source": [
    "from mpl_toolkits.mplot3d.axes3d import Axes3D\n",
    "X,Y = np.meshgrid(k_point,k_point)\n",
    "\n",
    "ax = fig.add_subplot(1, 1, 1, projection='3d')\n",
    "\n",
    "ax.plot_surface(X, Y, band1, rstride=4, cstride=4, alpha=0.25)\n",
    "ax.view_init(30, 45)\n",
    "plt.show()"
   ]
  },
  {
   "cell_type": "code",
   "execution_count": null,
   "metadata": {
    "collapsed": true
   },
   "outputs": [],
   "source": []
  },
  {
   "cell_type": "code",
   "execution_count": null,
   "metadata": {
    "collapsed": true
   },
   "outputs": [],
   "source": []
  },
  {
   "cell_type": "code",
   "execution_count": null,
   "metadata": {
    "collapsed": true
   },
   "outputs": [],
   "source": []
  },
  {
   "cell_type": "code",
   "execution_count": null,
   "metadata": {
    "collapsed": true
   },
   "outputs": [],
   "source": []
  },
  {
   "cell_type": "code",
   "execution_count": null,
   "metadata": {
    "collapsed": true
   },
   "outputs": [],
   "source": []
  },
  {
   "cell_type": "code",
   "execution_count": null,
   "metadata": {
    "collapsed": true
   },
   "outputs": [],
   "source": []
  },
  {
   "cell_type": "code",
   "execution_count": null,
   "metadata": {
    "collapsed": true
   },
   "outputs": [],
   "source": []
  }
 ],
 "metadata": {
  "anaconda-cloud": {},
  "kernelspec": {
   "display_name": "Python [conda root]",
   "language": "python",
   "name": "conda-root-py"
  },
  "language_info": {
   "codemirror_mode": {
    "name": "ipython",
    "version": 2
   },
   "file_extension": ".py",
   "mimetype": "text/x-python",
   "name": "python",
   "nbconvert_exporter": "python",
   "pygments_lexer": "ipython2",
   "version": "2.7.12"
  }
 },
 "nbformat": 4,
 "nbformat_minor": 1
}
